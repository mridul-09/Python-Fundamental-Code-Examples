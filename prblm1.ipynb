{
 "cells": [
  {
   "cell_type": "code",
   "execution_count": 1,
   "id": "8ec50127",
   "metadata": {},
   "outputs": [
    {
     "name": "stdout",
     "output_type": "stream",
     "text": [
      "hello world\n"
     ]
    }
   ],
   "source": [
    "#python program to print hello world\n",
    "print(\"hello world\")"
   ]
  },
  {
   "cell_type": "code",
   "execution_count": 2,
   "id": "233e48ee",
   "metadata": {},
   "outputs": [
    {
     "name": "stdout",
     "output_type": "stream",
     "text": [
      "17\n"
     ]
    }
   ],
   "source": [
    "#python program to add two numbers\n",
    "a=9\n",
    "b=8\n",
    "c=a+b\n",
    "print(c)"
   ]
  },
  {
   "cell_type": "code",
   "execution_count": 3,
   "id": "b191b29c",
   "metadata": {},
   "outputs": [
    {
     "name": "stdout",
     "output_type": "stream",
     "text": [
      "3.0\n"
     ]
    }
   ],
   "source": [
    "#python program to find the square root\n",
    "num=9\n",
    "sqrt=num**0.5\n",
    "print(sqrt)"
   ]
  },
  {
   "cell_type": "code",
   "execution_count": 4,
   "id": "01cae7f1",
   "metadata": {},
   "outputs": [
    {
     "name": "stdout",
     "output_type": "stream",
     "text": [
      "(3.0036631706260336e-16+4.905354217587146j)\n"
     ]
    }
   ],
   "source": [
    "#python program to calculate area of traingle\n",
    "a=2\n",
    "b=3\n",
    "c=6\n",
    "s=(a+b+c)/2\n",
    "a=(s*(s-a)*(s-b)*(s-c))**0.5\n",
    "print(a)\n"
   ]
  },
  {
   "cell_type": "code",
   "execution_count": 5,
   "id": "735377b1",
   "metadata": {},
   "outputs": [
    {
     "name": "stdout",
     "output_type": "stream",
     "text": [
      "(-0.75+1.984313483298443j)\n",
      "(-0.75-1.984313483298443j)\n"
     ]
    }
   ],
   "source": [
    "#python program to solve quadratic equal\n",
    "#general form of quardic equation ax**2+b*x+c\n",
    "#enter value of a,b, and c\n",
    "import cmath\n",
    "a=2\n",
    "b=3\n",
    "c=9\n",
    "d=(b**2)-(4*a*c)\n",
    "D=(-b+cmath.sqrt(d))/(2*a)\n",
    "D2=(-b-cmath.sqrt(d))/(2*a)\n",
    "print(D)\n",
    "print(D2)\n"
   ]
  },
  {
   "cell_type": "code",
   "execution_count": 6,
   "id": "fd7684ab",
   "metadata": {},
   "outputs": [
    {
     "name": "stdout",
     "output_type": "stream",
     "text": [
      "enter value of x56\n",
      "enter value of num274\n",
      "74\n",
      "56\n"
     ]
    }
   ],
   "source": [
    "#python program to swap to variable\n",
    "num1=input('enter value of x',)\n",
    "num2=input('enter value of num2',)\n",
    "temp=num1\n",
    "num1=num2\n",
    "num2=temp\n",
    "print(num1)\n",
    "print(num2)"
   ]
  },
  {
   "cell_type": "code",
   "execution_count": 7,
   "id": "6f91f453",
   "metadata": {},
   "outputs": [
    {
     "name": "stdout",
     "output_type": "stream",
     "text": [
      "6\n"
     ]
    }
   ],
   "source": [
    "#python program to generate random number \n",
    "import random\n",
    "print(random.randint(0,9))\n"
   ]
  },
  {
   "cell_type": "code",
   "execution_count": 8,
   "id": "db8c8f79",
   "metadata": {},
   "outputs": [
    {
     "name": "stdout",
     "output_type": "stream",
     "text": [
      "enter the kilometer64.64\n",
      "64.64 kilometers is equal to 41.95 is\n"
     ]
    }
   ],
   "source": [
    "#python program to convert kilometer to miles\n",
    "kilometers=float(input(\"enter the kilometer\"))\n",
    "kmtomiles=0.64905\n",
    "miles=kmtomiles*kilometers\n",
    "print('%.2f kilometers is equal to %.2f is'%(kilometers,miles))"
   ]
  },
  {
   "cell_type": "code",
   "execution_count": 9,
   "id": "52955396",
   "metadata": {
    "scrolled": true
   },
   "outputs": [
    {
     "name": "stdout",
     "output_type": "stream",
     "text": [
      "37.7 degree Celsius is equal to 99.9 degree Fahrenheit\n",
      "99.86000000000001\n"
     ]
    }
   ],
   "source": [
    "# Python Program to convert temperature in celsius to fahrenheit\n",
    "\n",
    "# change this value for a different result\n",
    "celsius = 37.7\n",
    "\n",
    "# calculate fahrenheit\n",
    "fahrenheit = (celsius * 1.8) + 32\n",
    "# Python Program to convert temperature in celsius to fahrenheit\n",
    "\n",
    "\n",
    "# calculate fahrenheit\n",
    "fahrenheit = (celsius * 1.8) + 32\n",
    "print('%0.1f degree Celsius is equal to %0.1f degree Fahrenheit' %(celsius,fahrenheit))\n",
    "print(fahrenheit)"
   ]
  },
  {
   "cell_type": "code",
   "execution_count": 10,
   "id": "49705ec2",
   "metadata": {},
   "outputs": [
    {
     "name": "stdout",
     "output_type": "stream",
     "text": [
      "enter the temperature in celsius45\n",
      "113.0\n"
     ]
    }
   ],
   "source": [
    "celsius=float(input('enter the temperature in celsius'))\n",
    "fahrenheit = (celsius * 1.8) + 32\n",
    "print(fahrenheit)"
   ]
  },
  {
   "cell_type": "code",
   "execution_count": 11,
   "id": "c95bf8f8",
   "metadata": {},
   "outputs": [
    {
     "name": "stdout",
     "output_type": "stream",
     "text": [
      "enter the numbver 6344\n",
      "positive number\n"
     ]
    }
   ],
   "source": [
    "#Python Program to Check if a Number is Positive, Negative or 0\n",
    "number=float(input('enter the numbver '))\n",
    "if number>0:\n",
    "    print('positive number')\n",
    "elif number<0:\n",
    "    print('negative number')\n",
    "else :\n",
    "    print('equal to 0')"
   ]
  },
  {
   "cell_type": "code",
   "execution_count": 12,
   "id": "cfc40392",
   "metadata": {},
   "outputs": [
    {
     "name": "stdout",
     "output_type": "stream",
     "text": [
      "entter the number6463\n",
      "odd number\n"
     ]
    }
   ],
   "source": [
    "#Python Program to Check if a Number is Odd or Even\n",
    "number=float(input('entter the number'))\n",
    "if number%2==0:\n",
    "    print('even number')\n",
    "else :\n",
    "    print('odd number')"
   ]
  },
  {
   "cell_type": "code",
   "execution_count": 13,
   "id": "8c4bbbe2",
   "metadata": {},
   "outputs": [
    {
     "name": "stdout",
     "output_type": "stream",
     "text": [
      "enter the year2030\n",
      "not leap year\n"
     ]
    }
   ],
   "source": [
    "#Python Program to Check Leap Year\n",
    "year=float(input('enter the year'))\n",
    "if year%4==0:\n",
    "    if year%100==0:\n",
    "        if year%400==0:\n",
    "            print('leap year')\n",
    "        else:\n",
    "            print('not leap year')\n",
    "    else:\n",
    "        print('leap year')\n",
    "else:\n",
    "    print('not leap year')\n",
    "            "
   ]
  },
  {
   "cell_type": "code",
   "execution_count": 14,
   "id": "d166c36c",
   "metadata": {},
   "outputs": [
    {
     "name": "stdout",
     "output_type": "stream",
     "text": [
      "enter the number453\n",
      "enter the number654\n",
      "enter the number777\n",
      "num3 is largest\n"
     ]
    }
   ],
   "source": [
    "#Python Program to Find the Largest Among Three Numbers\n",
    "num1= float(input('enter the number'))\n",
    "num2= float(input('enter the number'))\n",
    "num3= float(input('enter the number'))\n",
    "if ((num1>num2) and (num1>num3)):\n",
    "    print('num1 is larger')\n",
    "elif (num1>num2) and (num1>num3):\n",
    "    print('num1 is larger')\n",
    "else:\n",
    "    print('num3 is largest')"
   ]
  },
  {
   "cell_type": "code",
   "execution_count": 3,
   "id": "5cc13798",
   "metadata": {},
   "outputs": [
    {
     "name": "stdout",
     "output_type": "stream",
     "text": [
      "enter the number7\n",
      "2\n",
      "3\n",
      "4\n",
      "5\n",
      "6\n",
      "prime\n"
     ]
    }
   ],
   "source": [
    "#Python Program to Check Prime Number\n",
    "num=int(input('enter the number'))\n",
    "for i in range(2,num):\n",
    " print(i)\n",
    "if num>1:\n",
    "    for i in range(2, int(num/2)+1):\n",
    "        if num%i==0:\n",
    "             print('not prime')\n",
    "             break\n",
    "    else: \n",
    "        print('prime')\n",
    "else: print('not prime')"
   ]
  },
  {
   "cell_type": "code",
   "execution_count": 16,
   "id": "2f13ba02",
   "metadata": {},
   "outputs": [
    {
     "name": "stdout",
     "output_type": "stream",
     "text": [
      "enter the number 744\n",
      "enter the upper bound 888\n",
      "751\n",
      "757\n",
      "761\n",
      "769\n",
      "773\n",
      "787\n",
      "797\n",
      "809\n",
      "811\n",
      "821\n",
      "823\n",
      "827\n",
      "829\n",
      "839\n",
      "853\n",
      "857\n",
      "859\n",
      "863\n",
      "877\n",
      "881\n",
      "883\n",
      "887\n"
     ]
    }
   ],
   "source": [
    "#Python Program to Print all Prime Numbers in an Interval\n",
    "lower=int(input('enter the number '))\n",
    "upper=int(input('enter the upper bound '))\n",
    "for i in range(lower,upper):\n",
    "  if(lower>1):\n",
    "        for j in range(2,i):\n",
    "          if i%j==0:\n",
    "                break\n",
    "        else: print(i)\n",
    "        \n"
   ]
  },
  {
   "cell_type": "code",
   "execution_count": 17,
   "id": "c522df39",
   "metadata": {},
   "outputs": [
    {
     "name": "stdout",
     "output_type": "stream",
     "text": [
      "enter the number6\n",
      "720\n"
     ]
    }
   ],
   "source": [
    "# Python program to find the factorial of a number provided by the user.\n",
    "num=int(input('enter the number'))\n",
    "fact=1\n",
    "if num<0:\n",
    "    print('factorial dost exit')\n",
    "elif num==1:\n",
    "     print('factorial =1')\n",
    "else:\n",
    "     for i in range(1,num+1):\n",
    "       fact=fact*i\n",
    "     print(fact)"
   ]
  },
  {
   "cell_type": "code",
   "execution_count": 4,
   "id": "61bec3a0",
   "metadata": {},
   "outputs": [
    {
     "name": "stdout",
     "output_type": "stream",
     "text": [
      "enter the number 15\n",
      "15 x 1 = 15\n",
      "15 x 2 = 30\n",
      "15 x 3 = 45\n",
      "15 x 4 = 60\n",
      "15 x 5 = 75\n",
      "15 x 6 = 90\n",
      "15 x 7 = 105\n",
      "15 x 8 = 120\n",
      "15 x 9 = 135\n",
      "15 x 10 = 150\n"
     ]
    }
   ],
   "source": [
    "# Multiplication table (from 1 to 10) in Python\n",
    "num=int(input('enter the number '))\n",
    "for i in range(1,11):\n",
    "   print(num,'x',i ,'=',num*i)"
   ]
  },
  {
   "cell_type": "code",
   "execution_count": 5,
   "id": "ca82934e",
   "metadata": {},
   "outputs": [
    {
     "name": "stdout",
     "output_type": "stream",
     "text": [
      "enter the number10\n",
      "1\n",
      "2\n",
      "3\n",
      "5\n",
      "8\n",
      "13\n",
      "21\n",
      "34\n",
      "55\n",
      "89\n"
     ]
    }
   ],
   "source": [
    "# Program to display the Fibonacci sequence up to n-th term\n",
    "nthnum=int(input('enter the number'))\n",
    "n1=0\n",
    "n2=1\n",
    "n=1\n",
    "if nthnum<0:\n",
    "    print('not exit')\n",
    "else:\n",
    "    for i in range(1,nthnum+1):\n",
    "        n=n1+n2\n",
    "        print(n)\n",
    "        n1=n2\n",
    "        n2=n\n",
    "        "
   ]
  },
  {
   "cell_type": "code",
   "execution_count": 20,
   "id": "7da4a797",
   "metadata": {},
   "outputs": [
    {
     "name": "stdout",
     "output_type": "stream",
     "text": [
      "enter the nuymber 53434\n",
      "not armstrong number\n"
     ]
    }
   ],
   "source": [
    "# Python program to check if the number is an Armstrong number or not\n",
    "num=int(input('enter the nuymber '))\n",
    "temp=num\n",
    "sum=0\n",
    "digit=0\n",
    "while temp>0:\n",
    "        digit=temp%10\n",
    "        sum=sum+digit**3\n",
    "        temp=temp//10\n",
    "if sum==num:\n",
    "    print(num, ' is armstrong number')\n",
    "else:\n",
    "    print('not armstrong number')\n"
   ]
  },
  {
   "cell_type": "code",
   "execution_count": 21,
   "id": "b60d94ca",
   "metadata": {},
   "outputs": [
    {
     "name": "stdout",
     "output_type": "stream",
     "text": [
      "enter the nuymber 644\n",
      "enter the nuymber 788\n"
     ]
    }
   ],
   "source": [
    "lower=int(input('enter the nuymber ')) \n",
    "upper=int(input('enter the nuymber '))\n",
    "for i in range(lower,upper+1):\n",
    "    temp=i\n",
    "    sum=0\n",
    "    digit=0\n",
    "    while temp>0:\n",
    "        digit=temp%10\n",
    "        sum=sum+digit**3\n",
    "        temp=temp//10\n",
    "    if sum==num:\n",
    "        print(i, ' is armstrong number')\n"
   ]
  },
  {
   "cell_type": "code",
   "execution_count": 22,
   "id": "681c3de9",
   "metadata": {},
   "outputs": [
    {
     "name": "stdout",
     "output_type": "stream",
     "text": [
      "he sum is 136\n"
     ]
    }
   ],
   "source": [
    "# Sum of natural numbers up to num\n",
    "\n",
    "num = 16\n",
    "\n",
    "if num < 0:\n",
    "   print(\"Enter a positive number\")\n",
    "else:\n",
    "   sum = 0\n",
    "   # use while loop to iterate until zero\n",
    "   while(num > 0):\n",
    "       sum += num\n",
    "       num -= 1\n",
    "   print(\"he sum is\", sum)\n"
   ]
  },
  {
   "cell_type": "code",
   "execution_count": 6,
   "id": "db3b08d9",
   "metadata": {},
   "outputs": [
    {
     "name": "stdout",
     "output_type": "stream",
     "text": [
      "enter the number10\n",
      "1\n",
      "2\n",
      "4\n",
      "8\n",
      "16\n",
      "32\n",
      "64\n",
      "128\n",
      "256\n",
      "512\n"
     ]
    }
   ],
   "source": [
    "# Display the powers of 2 using anonymous function\n",
    "num=int(input('enter the number'))\n",
    "value=lambda x:2**x\n",
    "for i in range(num):\n",
    " print(value(i))"
   ]
  },
  {
   "cell_type": "code",
   "execution_count": 24,
   "id": "2bfa63b4",
   "metadata": {},
   "outputs": [
    {
     "name": "stdout",
     "output_type": "stream",
     "text": [
      "enterr the number34\n",
      "[34]\n"
     ]
    }
   ],
   "source": [
    "#Python Program to Find Numbers Divisible by Another Number\n",
    "num=int(input('enterr the number'))\n",
    "mylist=[4,3,43,343,75,34,67,6]\n",
    "divisible=list(filter(lambda x: (x%num==0),mylist))\n",
    "print(divisible)"
   ]
  },
  {
   "cell_type": "code",
   "execution_count": 7,
   "id": "491eda81",
   "metadata": {},
   "outputs": [
    {
     "name": "stdout",
     "output_type": "stream",
     "text": [
      "enter the number8\n",
      "0b1000\n",
      "0o10\n",
      "0o10\n"
     ]
    }
   ],
   "source": [
    "# Python program to convert decimal into other number systems\n",
    "dec=int(input('enter the number'))\n",
    "print(bin(dec))\n",
    "print(oct(dec))\n",
    "print(oct(dec))"
   ]
  },
  {
   "cell_type": "code",
   "execution_count": 8,
   "id": "e1df8ed8",
   "metadata": {},
   "outputs": [
    {
     "name": "stdout",
     "output_type": "stream",
     "text": [
      "100\n",
      "8\n"
     ]
    }
   ],
   "source": [
    "# Program to find the ASCII value of the given character\n",
    "character='d'\n",
    "print(ord(character))\n",
    "print(chr(56))"
   ]
  },
  {
   "cell_type": "code",
   "execution_count": 9,
   "id": "dfbdd6d3",
   "metadata": {},
   "outputs": [
    {
     "name": "stdout",
     "output_type": "stream",
     "text": [
      "enter the number45\n",
      "enter the number75\n",
      "15\n"
     ]
    }
   ],
   "source": [
    "# Python program to find H.C.F of two numbers\n",
    "x=int(input('enter the number'))\n",
    "y=int(input('enter the number'))\n",
    "def hcf(x,y):\n",
    "    if x>y:\n",
    "        smaller=y\n",
    "    else:\n",
    "        smaller=x\n",
    "    for i in range(1,smaller+1):\n",
    "        if x%i==0 and y%i==0:\n",
    "            hcf=i\n",
    "    return hcf\n",
    "print(hcf(x,y))"
   ]
  },
  {
   "cell_type": "code",
   "execution_count": 10,
   "id": "4c2d32e1",
   "metadata": {},
   "outputs": [
    {
     "name": "stdout",
     "output_type": "stream",
     "text": [
      "enter the number7\n",
      "enter the number4\n",
      "28\n"
     ]
    }
   ],
   "source": [
    "# Python Program to find the L.C.M. of two input number\n",
    "x=int(input('enter the number'))\n",
    "y=int(input('enter the number'))\n",
    "def lcm(x,y):\n",
    " if x>y:\n",
    "  greater=x\n",
    " else:\n",
    "    greater=y\n",
    " while True:\n",
    "    if greater%x==0 and greater%y==0:\n",
    "        lcm=greater\n",
    "        break\n",
    "    greater=greater+1\n",
    " return lcm\n",
    "print(lcm(x,y))"
   ]
  },
  {
   "cell_type": "code",
   "execution_count": 11,
   "id": "90ff417a",
   "metadata": {},
   "outputs": [
    {
     "name": "stdout",
     "output_type": "stream",
     "text": [
      "The factors of 320 are:\n",
      "1\n",
      "2\n",
      "4\n",
      "5\n",
      "8\n",
      "10\n",
      "16\n",
      "20\n",
      "32\n",
      "40\n",
      "64\n",
      "80\n",
      "160\n",
      "320\n"
     ]
    }
   ],
   "source": [
    "# Python Program to find the factors of a number\n",
    "\n",
    "# This function computes the factor of the argument passed\n",
    "def print_factors(x):\n",
    "   print(\"The factors of\",x,\"are:\")\n",
    "   for i in range(1, x + 1):\n",
    "       if x % i == 0:\n",
    "           print(i)\n",
    "\n",
    "num = 320\n",
    "\n",
    "print_factors(num)\n"
   ]
  },
  {
   "cell_type": "markdown",
   "id": "bec00256",
   "metadata": {},
   "source": [
    "## Program make a simple calculator\n"
   ]
  }
 ],
 "metadata": {
  "kernelspec": {
   "display_name": "Python 3 (ipykernel)",
   "language": "python",
   "name": "python3"
  },
  "language_info": {
   "codemirror_mode": {
    "name": "ipython",
    "version": 3
   },
   "file_extension": ".py",
   "mimetype": "text/x-python",
   "name": "python",
   "nbconvert_exporter": "python",
   "pygments_lexer": "ipython3",
   "version": "3.9.1"
  }
 },
 "nbformat": 4,
 "nbformat_minor": 5
}
